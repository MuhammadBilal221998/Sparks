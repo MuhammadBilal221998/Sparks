{
 "cells": [
  {
   "cell_type": "code",
   "execution_count": 1,
   "id": "0a69d5fd",
   "metadata": {},
   "outputs": [],
   "source": [
    "###Session 5\n",
    "\n",
    "#Arrays\n",
    "#basic python libraries\n",
    "#numerical python\n",
    "#datatype of NumPy = Arrays\n",
    "#In Python we import multiple libraries to make our work easy , as if try to make functions over and over that would cost us time\n",
    "#A Simple way out here is to import libraries i.e import matplotlib and generate graphs like bar and line charts"
   ]
  },
  {
   "cell_type": "code",
   "execution_count": 2,
   "id": "5c086d0b",
   "metadata": {},
   "outputs": [],
   "source": [
    "list_1 = [1,2,3,4,5]"
   ]
  },
  {
   "cell_type": "code",
   "execution_count": 3,
   "id": "da63c485",
   "metadata": {},
   "outputs": [
    {
     "data": {
      "text/plain": [
       "list"
      ]
     },
     "execution_count": 3,
     "metadata": {},
     "output_type": "execute_result"
    }
   ],
   "source": [
    "type(list_1)"
   ]
  },
  {
   "cell_type": "code",
   "execution_count": 4,
   "id": "33dc4933",
   "metadata": {},
   "outputs": [],
   "source": [
    "import numpy as np #np is nickname of numpy"
   ]
  },
  {
   "cell_type": "code",
   "execution_count": 5,
   "id": "152b86b0",
   "metadata": {},
   "outputs": [],
   "source": [
    "import pandas as pd #pd is nickname of pandas"
   ]
  },
  {
   "cell_type": "code",
   "execution_count": 6,
   "id": "9fcb09a3",
   "metadata": {},
   "outputs": [],
   "source": [
    "import matplotlib as mt #mt is nickname of matplotlib"
   ]
  },
  {
   "cell_type": "code",
   "execution_count": 7,
   "id": "c2b1edff",
   "metadata": {},
   "outputs": [],
   "source": [
    "list1_array = np.array(list_1)"
   ]
  },
  {
   "cell_type": "code",
   "execution_count": 13,
   "id": "a25aaf09",
   "metadata": {},
   "outputs": [],
   "source": [
    "# You need to convert data into numpy array\n",
    "# numpy array is a data type specifically for numpy library\n",
    "# numpy array is a basic data type"
   ]
  },
  {
   "cell_type": "code",
   "execution_count": 8,
   "id": "bb801912",
   "metadata": {},
   "outputs": [
    {
     "data": {
      "text/plain": [
       "array([1, 2, 3, 4, 5])"
      ]
     },
     "execution_count": 8,
     "metadata": {},
     "output_type": "execute_result"
    }
   ],
   "source": [
    "list1_array"
   ]
  },
  {
   "cell_type": "code",
   "execution_count": 9,
   "id": "c58c7def",
   "metadata": {},
   "outputs": [],
   "source": [
    "array_3 = np.array([2,4,6])"
   ]
  },
  {
   "cell_type": "code",
   "execution_count": 10,
   "id": "12c193bd",
   "metadata": {},
   "outputs": [
    {
     "data": {
      "text/plain": [
       "array([2, 4, 6])"
      ]
     },
     "execution_count": 10,
     "metadata": {},
     "output_type": "execute_result"
    }
   ],
   "source": [
    "array_3"
   ]
  },
  {
   "cell_type": "code",
   "execution_count": 11,
   "id": "53c50c06",
   "metadata": {},
   "outputs": [],
   "source": [
    "#One Dimentional Array\n",
    "one_dim_array = np.array([1,2,3,4,5])\n"
   ]
  },
  {
   "cell_type": "code",
   "execution_count": 12,
   "id": "1a60d748",
   "metadata": {},
   "outputs": [
    {
     "data": {
      "text/plain": [
       "array([1, 2, 3, 4, 5])"
      ]
     },
     "execution_count": 12,
     "metadata": {},
     "output_type": "execute_result"
    }
   ],
   "source": [
    "one_dim_array"
   ]
  },
  {
   "cell_type": "code",
   "execution_count": 13,
   "id": "71430287",
   "metadata": {},
   "outputs": [
    {
     "data": {
      "text/plain": [
       "(5,)"
      ]
     },
     "execution_count": 13,
     "metadata": {},
     "output_type": "execute_result"
    }
   ],
   "source": [
    "one_dim_array.shape"
   ]
  },
  {
   "cell_type": "code",
   "execution_count": 14,
   "id": "f97525b4",
   "metadata": {},
   "outputs": [
    {
     "data": {
      "text/plain": [
       "5"
      ]
     },
     "execution_count": 14,
     "metadata": {},
     "output_type": "execute_result"
    }
   ],
   "source": [
    "one_dim_array.size"
   ]
  },
  {
   "cell_type": "code",
   "execution_count": 28,
   "id": "c59d3d55",
   "metadata": {},
   "outputs": [],
   "source": [
    "#two dimentional array "
   ]
  },
  {
   "cell_type": "code",
   "execution_count": 15,
   "id": "6947b444",
   "metadata": {},
   "outputs": [],
   "source": [
    "two_dim_array = np.array([[1,2,3,4],[2,4,6,8]])"
   ]
  },
  {
   "cell_type": "code",
   "execution_count": 16,
   "id": "b9e502b0",
   "metadata": {},
   "outputs": [
    {
     "data": {
      "text/plain": [
       "array([[1, 2, 3, 4],\n",
       "       [2, 4, 6, 8]])"
      ]
     },
     "execution_count": 16,
     "metadata": {},
     "output_type": "execute_result"
    }
   ],
   "source": [
    "two_dim_array"
   ]
  },
  {
   "cell_type": "code",
   "execution_count": 17,
   "id": "3426e3ee",
   "metadata": {},
   "outputs": [
    {
     "data": {
      "text/plain": [
       "(2, 4)"
      ]
     },
     "execution_count": 17,
     "metadata": {},
     "output_type": "execute_result"
    }
   ],
   "source": [
    "two_dim_array.shape\n",
    "# 2 rows 4 columns"
   ]
  },
  {
   "cell_type": "code",
   "execution_count": 18,
   "id": "207f2890",
   "metadata": {},
   "outputs": [
    {
     "data": {
      "text/plain": [
       "8"
      ]
     },
     "execution_count": 18,
     "metadata": {},
     "output_type": "execute_result"
    }
   ],
   "source": [
    "two_dim_array.size\n",
    "# 2*4"
   ]
  },
  {
   "cell_type": "code",
   "execution_count": 19,
   "id": "b5feeae8",
   "metadata": {},
   "outputs": [
    {
     "data": {
      "text/plain": [
       "1"
      ]
     },
     "execution_count": 19,
     "metadata": {},
     "output_type": "execute_result"
    }
   ],
   "source": [
    "one_dim_array.ndim"
   ]
  },
  {
   "cell_type": "code",
   "execution_count": 20,
   "id": "f3072103",
   "metadata": {},
   "outputs": [
    {
     "data": {
      "text/plain": [
       "2"
      ]
     },
     "execution_count": 20,
     "metadata": {},
     "output_type": "execute_result"
    }
   ],
   "source": [
    "two_dim_array.ndim"
   ]
  },
  {
   "cell_type": "code",
   "execution_count": 41,
   "id": "f4c921a4",
   "metadata": {},
   "outputs": [],
   "source": [
    "###Arange"
   ]
  },
  {
   "cell_type": "code",
   "execution_count": 22,
   "id": "cc375738",
   "metadata": {},
   "outputs": [],
   "source": [
    "array_abc = np.arange(1,100,2)\n",
    "\n",
    "# 1st value = staring value\n",
    "# 2nd value = ending  value + 1\n",
    "# 3rd value = number of gaps"
   ]
  },
  {
   "cell_type": "code",
   "execution_count": 23,
   "id": "d9e48fac",
   "metadata": {},
   "outputs": [
    {
     "data": {
      "text/plain": [
       "array([ 1,  3,  5,  7,  9, 11, 13, 15, 17, 19, 21, 23, 25, 27, 29, 31, 33,\n",
       "       35, 37, 39, 41, 43, 45, 47, 49, 51, 53, 55, 57, 59, 61, 63, 65, 67,\n",
       "       69, 71, 73, 75, 77, 79, 81, 83, 85, 87, 89, 91, 93, 95, 97, 99])"
      ]
     },
     "execution_count": 23,
     "metadata": {},
     "output_type": "execute_result"
    }
   ],
   "source": [
    "array_abc"
   ]
  },
  {
   "cell_type": "code",
   "execution_count": 26,
   "id": "4ab996ad",
   "metadata": {},
   "outputs": [],
   "source": [
    "odm_array = np.array([1,2,3,4,5])\n",
    "tdm_array = np.array([[1,2,3],[5,6,7]])"
   ]
  },
  {
   "cell_type": "code",
   "execution_count": 28,
   "id": "679ba916",
   "metadata": {},
   "outputs": [
    {
     "data": {
      "text/plain": [
       "array([1, 2, 3, 4, 5])"
      ]
     },
     "execution_count": 28,
     "metadata": {},
     "output_type": "execute_result"
    }
   ],
   "source": [
    "odm_array"
   ]
  },
  {
   "cell_type": "code",
   "execution_count": 30,
   "id": "a809453d",
   "metadata": {},
   "outputs": [
    {
     "data": {
      "text/plain": [
       "array([[1, 2, 3],\n",
       "       [5, 6, 7]])"
      ]
     },
     "execution_count": 30,
     "metadata": {},
     "output_type": "execute_result"
    }
   ],
   "source": [
    "tdm_array"
   ]
  },
  {
   "cell_type": "code",
   "execution_count": 32,
   "id": "9c76e227",
   "metadata": {},
   "outputs": [
    {
     "data": {
      "text/plain": [
       "2"
      ]
     },
     "execution_count": 32,
     "metadata": {},
     "output_type": "execute_result"
    }
   ],
   "source": [
    "tdm_array.ndim\n",
    "# number of dimensions"
   ]
  },
  {
   "cell_type": "code",
   "execution_count": 34,
   "id": "0401f8c5",
   "metadata": {},
   "outputs": [
    {
     "data": {
      "text/plain": [
       "1"
      ]
     },
     "execution_count": 34,
     "metadata": {},
     "output_type": "execute_result"
    }
   ],
   "source": [
    "odm_array.ndim"
   ]
  },
  {
   "cell_type": "code",
   "execution_count": 36,
   "id": "f7ce95e0",
   "metadata": {},
   "outputs": [],
   "source": [
    "array_abc = np.arange(1,100,2)"
   ]
  },
  {
   "cell_type": "code",
   "execution_count": 38,
   "id": "92c80893",
   "metadata": {},
   "outputs": [
    {
     "data": {
      "text/plain": [
       "array([ 1,  3,  5,  7,  9, 11, 13, 15, 17, 19, 21, 23, 25, 27, 29, 31, 33,\n",
       "       35, 37, 39, 41, 43, 45, 47, 49, 51, 53, 55, 57, 59, 61, 63, 65, 67,\n",
       "       69, 71, 73, 75, 77, 79, 81, 83, 85, 87, 89, 91, 93, 95, 97, 99])"
      ]
     },
     "execution_count": 38,
     "metadata": {},
     "output_type": "execute_result"
    }
   ],
   "source": [
    "array_abc"
   ]
  },
  {
   "cell_type": "code",
   "execution_count": 40,
   "id": "f1fc08fb",
   "metadata": {},
   "outputs": [],
   "source": [
    "array_bcg = np.arange(5,10000,100)"
   ]
  },
  {
   "cell_type": "code",
   "execution_count": 41,
   "id": "e2476c9a",
   "metadata": {},
   "outputs": [],
   "source": [
    "#Linspace"
   ]
  },
  {
   "cell_type": "code",
   "execution_count": 42,
   "id": "4c5d6053",
   "metadata": {},
   "outputs": [],
   "source": [
    "#First element = Starting\n",
    "#Second element =Last Element\n",
    "#Third Element = Number of elements you want to divide into equally spaced"
   ]
  },
  {
   "cell_type": "code",
   "execution_count": 44,
   "id": "4450ad69",
   "metadata": {},
   "outputs": [],
   "source": [
    "line_a = np.linspace(10,30,6)"
   ]
  },
  {
   "cell_type": "code",
   "execution_count": 45,
   "id": "7fc865b1",
   "metadata": {},
   "outputs": [],
   "source": [
    "#Arithmatic Operations"
   ]
  },
  {
   "cell_type": "code",
   "execution_count": 46,
   "id": "0546e5dd",
   "metadata": {},
   "outputs": [],
   "source": [
    "a = [1,5,7,8,13,20]\n",
    "b = [1,2,3,4,5,6]"
   ]
  },
  {
   "cell_type": "code",
   "execution_count": 48,
   "id": "5efe5bfe",
   "metadata": {},
   "outputs": [],
   "source": [
    "a_array = np.array(a)\n",
    "b_array = np.array(b)"
   ]
  },
  {
   "cell_type": "code",
   "execution_count": 50,
   "id": "57b774d4",
   "metadata": {},
   "outputs": [
    {
     "data": {
      "text/plain": [
       "(array([ 1,  5,  7,  8, 13, 20]), array([1, 2, 3, 4, 5, 6]))"
      ]
     },
     "execution_count": 50,
     "metadata": {},
     "output_type": "execute_result"
    }
   ],
   "source": [
    "a_array , b_array"
   ]
  },
  {
   "cell_type": "code",
   "execution_count": 52,
   "id": "58d8388b",
   "metadata": {},
   "outputs": [
    {
     "data": {
      "text/plain": [
       "array([ 2,  7, 10, 12, 18, 26])"
      ]
     },
     "execution_count": 52,
     "metadata": {},
     "output_type": "execute_result"
    }
   ],
   "source": [
    "np.add(a_array,b_array)"
   ]
  },
  {
   "cell_type": "code",
   "execution_count": 55,
   "id": "800e49e8",
   "metadata": {},
   "outputs": [
    {
     "data": {
      "text/plain": [
       "array([  1,  10,  21,  32,  65, 120])"
      ]
     },
     "execution_count": 55,
     "metadata": {},
     "output_type": "execute_result"
    }
   ],
   "source": [
    "np.multiply(a_array,b_array)"
   ]
  },
  {
   "cell_type": "code",
   "execution_count": 57,
   "id": "b0b20887",
   "metadata": {},
   "outputs": [
    {
     "data": {
      "text/plain": [
       "array([1.        , 2.5       , 2.33333333, 2.        , 2.6       ,\n",
       "       3.33333333])"
      ]
     },
     "execution_count": 57,
     "metadata": {},
     "output_type": "execute_result"
    }
   ],
   "source": [
    "np.divide(a_array,b_array)"
   ]
  },
  {
   "cell_type": "code",
   "execution_count": 59,
   "id": "1a24a39c",
   "metadata": {},
   "outputs": [
    {
     "data": {
      "text/plain": [
       "6.082762530298219"
      ]
     },
     "execution_count": 59,
     "metadata": {},
     "output_type": "execute_result"
    }
   ],
   "source": [
    "np.std(a_array)"
   ]
  },
  {
   "cell_type": "code",
   "execution_count": 61,
   "id": "894f4cbb",
   "metadata": {},
   "outputs": [
    {
     "data": {
      "text/plain": [
       "37.0"
      ]
     },
     "execution_count": 61,
     "metadata": {},
     "output_type": "execute_result"
    }
   ],
   "source": [
    "np.var(a_array)"
   ]
  },
  {
   "cell_type": "code",
   "execution_count": 63,
   "id": "c5e5da00",
   "metadata": {},
   "outputs": [
    {
     "data": {
      "text/plain": [
       "7.5"
      ]
     },
     "execution_count": 63,
     "metadata": {},
     "output_type": "execute_result"
    }
   ],
   "source": [
    "np.median(a_array)"
   ]
  },
  {
   "cell_type": "code",
   "execution_count": 65,
   "id": "946524aa",
   "metadata": {},
   "outputs": [
    {
     "data": {
      "text/plain": [
       "array([ 0.84147098, -0.95892427,  0.6569866 ,  0.98935825,  0.42016704,\n",
       "        0.91294525])"
      ]
     },
     "execution_count": 65,
     "metadata": {},
     "output_type": "execute_result"
    }
   ],
   "source": [
    "np.sin(a_array)"
   ]
  },
  {
   "cell_type": "code",
   "execution_count": 67,
   "id": "c4cfe3d5",
   "metadata": {},
   "outputs": [
    {
     "data": {
      "text/plain": [
       "array([ 1.55740772, -3.38051501,  0.87144798, -6.79971146,  0.46302113,\n",
       "        2.23716094])"
      ]
     },
     "execution_count": 67,
     "metadata": {},
     "output_type": "execute_result"
    }
   ],
   "source": [
    "np.tan(a_array)"
   ]
  },
  {
   "cell_type": "code",
   "execution_count": 68,
   "id": "9e4e094c",
   "metadata": {},
   "outputs": [
    {
     "data": {
      "text/plain": [
       "array([0.        , 1.60943791, 1.94591015, 2.07944154, 2.56494936,\n",
       "       2.99573227])"
      ]
     },
     "execution_count": 68,
     "metadata": {},
     "output_type": "execute_result"
    }
   ],
   "source": [
    "np.log(a_array)"
   ]
  }
 ],
 "metadata": {
  "kernelspec": {
   "display_name": "Python 3",
   "language": "python",
   "name": "python3"
  },
  "language_info": {
   "codemirror_mode": {
    "name": "ipython",
    "version": 3
   },
   "file_extension": ".py",
   "mimetype": "text/x-python",
   "name": "python",
   "nbconvert_exporter": "python",
   "pygments_lexer": "ipython3",
   "version": "3.8.8"
  }
 },
 "nbformat": 4,
 "nbformat_minor": 5
}
