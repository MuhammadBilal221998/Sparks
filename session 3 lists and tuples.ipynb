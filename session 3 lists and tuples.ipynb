{
 "cells": [
  {
   "cell_type": "code",
   "execution_count": 1,
   "id": "c49c27bd",
   "metadata": {},
   "outputs": [],
   "source": [
    "#Session 3"
   ]
  },
  {
   "cell_type": "code",
   "execution_count": 2,
   "id": "f6cd3b51",
   "metadata": {},
   "outputs": [],
   "source": [
    "# Lists and Tuples"
   ]
  },
  {
   "cell_type": "code",
   "execution_count": 4,
   "id": "fd93210b",
   "metadata": {},
   "outputs": [],
   "source": [
    "a = 50 "
   ]
  },
  {
   "cell_type": "code",
   "execution_count": 6,
   "id": "867c79a1",
   "metadata": {},
   "outputs": [
    {
     "data": {
      "text/plain": [
       "int"
      ]
     },
     "execution_count": 6,
     "metadata": {},
     "output_type": "execute_result"
    }
   ],
   "source": [
    "type(a)"
   ]
  },
  {
   "cell_type": "code",
   "execution_count": 8,
   "id": "4aaafe2d",
   "metadata": {},
   "outputs": [],
   "source": [
    "a = 50.5 #we write numbers as it is in python and letter in \"\" or ''"
   ]
  },
  {
   "cell_type": "code",
   "execution_count": 10,
   "id": "ce0304ff",
   "metadata": {},
   "outputs": [
    {
     "data": {
      "text/plain": [
       "float"
      ]
     },
     "execution_count": 10,
     "metadata": {},
     "output_type": "execute_result"
    }
   ],
   "source": [
    "type(a) #Decimal represents float type"
   ]
  },
  {
   "cell_type": "code",
   "execution_count": 12,
   "id": "3e80b034",
   "metadata": {},
   "outputs": [],
   "source": [
    "a = \"sting\""
   ]
  },
  {
   "cell_type": "code",
   "execution_count": 14,
   "id": "6e3b74e7",
   "metadata": {},
   "outputs": [
    {
     "data": {
      "text/plain": [
       "str"
      ]
     },
     "execution_count": 14,
     "metadata": {},
     "output_type": "execute_result"
    }
   ],
   "source": [
    "type(a) #Alphabet represents string"
   ]
  },
  {
   "cell_type": "code",
   "execution_count": 16,
   "id": "56adc3db",
   "metadata": {},
   "outputs": [],
   "source": [
    "#Boolean = True or False"
   ]
  },
  {
   "cell_type": "code",
   "execution_count": 17,
   "id": "96e9504e",
   "metadata": {},
   "outputs": [],
   "source": [
    "# y = True , x = False"
   ]
  },
  {
   "cell_type": "code",
   "execution_count": 19,
   "id": "ece405bd",
   "metadata": {},
   "outputs": [],
   "source": [
    "a = True"
   ]
  },
  {
   "cell_type": "code",
   "execution_count": 21,
   "id": "33dc7d02",
   "metadata": {},
   "outputs": [],
   "source": [
    "b = False"
   ]
  },
  {
   "cell_type": "code",
   "execution_count": 23,
   "id": "6cb1bad7",
   "metadata": {},
   "outputs": [
    {
     "data": {
      "text/plain": [
       "bool"
      ]
     },
     "execution_count": 23,
     "metadata": {},
     "output_type": "execute_result"
    }
   ],
   "source": [
    "type(a)"
   ]
  },
  {
   "cell_type": "code",
   "execution_count": 43,
   "id": "b26cddd0",
   "metadata": {},
   "outputs": [],
   "source": [
    "grocery_items = [\"eggs\",\"Shampoo\",\"Bread\",\"Toothpaste\",4 , 5.6,7] #This variable is known to be list"
   ]
  },
  {
   "cell_type": "code",
   "execution_count": 27,
   "id": "2f52e8b2",
   "metadata": {},
   "outputs": [
    {
     "data": {
      "text/plain": [
       "list"
      ]
     },
     "execution_count": 27,
     "metadata": {},
     "output_type": "execute_result"
    }
   ],
   "source": [
    "type(grocery_items) # type function helps us to know what kind of a variable it is"
   ]
  },
  {
   "cell_type": "code",
   "execution_count": 42,
   "id": "e51ce810",
   "metadata": {},
   "outputs": [
    {
     "data": {
      "text/plain": [
       "('eggs', 'shampoo', 'bread', 'toothpaste', 4, 5.6, 7)"
      ]
     },
     "execution_count": 42,
     "metadata": {},
     "output_type": "execute_result"
    }
   ],
   "source": [
    "grocery_items"
   ]
  },
  {
   "cell_type": "code",
   "execution_count": 31,
   "id": "263cf751",
   "metadata": {},
   "outputs": [],
   "source": [
    "list = [\"awais\",\"arooba\",\"javed\",\"salman\",\"amir\"]\n",
    "#indexing 0         1       2       3       4"
   ]
  },
  {
   "cell_type": "code",
   "execution_count": 33,
   "id": "c731e0c9",
   "metadata": {},
   "outputs": [
    {
     "data": {
      "text/plain": [
       "'salman'"
      ]
     },
     "execution_count": 33,
     "metadata": {},
     "output_type": "execute_result"
    }
   ],
   "source": [
    "list[3]"
   ]
  },
  {
   "cell_type": "code",
   "execution_count": 35,
   "id": "3f291db7",
   "metadata": {},
   "outputs": [
    {
     "data": {
      "text/plain": [
       "16"
      ]
     },
     "execution_count": 35,
     "metadata": {},
     "output_type": "execute_result"
    }
   ],
   "source": [
    "grocery_items[4]*4"
   ]
  },
  {
   "cell_type": "code",
   "execution_count": 36,
   "id": "03c62d5a",
   "metadata": {},
   "outputs": [],
   "source": [
    "#lists are mutable , we can change values/elements in a list\n",
    "# tuples are immutable\n",
    "# for indexing use square brackets only[]"
   ]
  },
  {
   "cell_type": "code",
   "execution_count": 38,
   "id": "cac59223",
   "metadata": {},
   "outputs": [
    {
     "data": {
      "text/plain": [
       "22.4"
      ]
     },
     "execution_count": 38,
     "metadata": {},
     "output_type": "execute_result"
    }
   ],
   "source": [
    "grocery_items[4]*grocery_items[5]"
   ]
  },
  {
   "cell_type": "code",
   "execution_count": 41,
   "id": "defc61af",
   "metadata": {},
   "outputs": [],
   "source": [
    "grocery_items_2 =(\"eggs\",\"shampoo\",\"bread\",\"toothpaste\",4,5.6,7)"
   ]
  },
  {
   "cell_type": "code",
   "execution_count": 45,
   "id": "017fb187",
   "metadata": {},
   "outputs": [],
   "source": [
    "grocery_items[1] = \"milk\""
   ]
  },
  {
   "cell_type": "code",
   "execution_count": 47,
   "id": "d1e7e747",
   "metadata": {},
   "outputs": [
    {
     "data": {
      "text/plain": [
       "['eggs', 'milk', 'Bread', 'Toothpaste', 4, 5.6, 7]"
      ]
     },
     "execution_count": 47,
     "metadata": {},
     "output_type": "execute_result"
    }
   ],
   "source": [
    "grocery_items"
   ]
  },
  {
   "cell_type": "code",
   "execution_count": 50,
   "id": "114e93e6",
   "metadata": {},
   "outputs": [],
   "source": [
    "home_address = ['wapda town','A',[125,135,190],'C'],['johar town','G',[1,2],'H','I']\n",
    "   #Indexing                0        1       2         3        4         5    6     7   8"
   ]
  },
  {
   "cell_type": "code",
   "execution_count": null,
   "id": "8c8e84a3",
   "metadata": {},
   "outputs": [],
   "source": [
    "# there can be multiple lists within lists"
   ]
  }
 ],
 "metadata": {
  "kernelspec": {
   "display_name": "Python 3",
   "language": "python",
   "name": "python3"
  },
  "language_info": {
   "codemirror_mode": {
    "name": "ipython",
    "version": 3
   },
   "file_extension": ".py",
   "mimetype": "text/x-python",
   "name": "python",
   "nbconvert_exporter": "python",
   "pygments_lexer": "ipython3",
   "version": "3.8.8"
  }
 },
 "nbformat": 4,
 "nbformat_minor": 5
}
