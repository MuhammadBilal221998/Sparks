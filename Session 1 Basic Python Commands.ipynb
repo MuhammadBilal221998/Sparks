{
 "cells": [
  {
   "cell_type": "code",
   "execution_count": 1,
   "id": "70c58941",
   "metadata": {},
   "outputs": [],
   "source": [
    "#Session 1 :This Sesion focuses on basic mathematical questions"
   ]
  },
  {
   "cell_type": "code",
   "execution_count": 4,
   "id": "a3c26474",
   "metadata": {},
   "outputs": [
    {
     "name": "stdout",
     "output_type": "stream",
     "text": [
      "Hello World\n"
     ]
    }
   ],
   "source": [
    "print(\"Hello World\")"
   ]
  },
  {
   "cell_type": "code",
   "execution_count": 6,
   "id": "7be25fa7",
   "metadata": {},
   "outputs": [],
   "source": [
    "# In indicates inputs\n",
    "# to run code press shift + enter\n",
    "# for python double and single inverted commas are same\n",
    "# modulus indicates remainder /\n",
    "# dividend / divisor = quotient//\n",
    "# Exponent **\n",
    "# Without print only last command will be printed , print will execute all the commands\n"
   ]
  },
  {
   "cell_type": "code",
   "execution_count": 8,
   "id": "2abde235",
   "metadata": {},
   "outputs": [
    {
     "name": "stdout",
     "output_type": "stream",
     "text": [
      "this is our first python class\n"
     ]
    }
   ],
   "source": [
    "print(\"this is our first python class\")"
   ]
  },
  {
   "cell_type": "code",
   "execution_count": 10,
   "id": "efdb4fa1",
   "metadata": {},
   "outputs": [
    {
     "name": "stdout",
     "output_type": "stream",
     "text": [
      "this is our first python class , 1234567\n"
     ]
    }
   ],
   "source": [
    "print(\"this is our first python class , 1234567\")"
   ]
  },
  {
   "cell_type": "code",
   "execution_count": 12,
   "id": "8908d98b",
   "metadata": {},
   "outputs": [
    {
     "data": {
      "text/plain": [
       "8"
      ]
     },
     "execution_count": 12,
     "metadata": {},
     "output_type": "execute_result"
    }
   ],
   "source": [
    "5+3"
   ]
  },
  {
   "cell_type": "code",
   "execution_count": 14,
   "id": "e7f70523",
   "metadata": {},
   "outputs": [
    {
     "name": "stdout",
     "output_type": "stream",
     "text": [
      "8\n"
     ]
    }
   ],
   "source": [
    "print(5+3)"
   ]
  },
  {
   "cell_type": "code",
   "execution_count": 16,
   "id": "f54f7328",
   "metadata": {},
   "outputs": [
    {
     "name": "stdout",
     "output_type": "stream",
     "text": [
      "8 2\n"
     ]
    }
   ],
   "source": [
    "print(5+3 , 5-3)"
   ]
  },
  {
   "cell_type": "code",
   "execution_count": 18,
   "id": "33665b04",
   "metadata": {},
   "outputs": [
    {
     "data": {
      "text/plain": [
       "9.0"
      ]
     },
     "execution_count": 18,
     "metadata": {},
     "output_type": "execute_result"
    }
   ],
   "source": [
    "18 / 2"
   ]
  },
  {
   "cell_type": "code",
   "execution_count": 20,
   "id": "960f490a",
   "metadata": {},
   "outputs": [
    {
     "data": {
      "text/plain": [
       "9"
      ]
     },
     "execution_count": 20,
     "metadata": {},
     "output_type": "execute_result"
    }
   ],
   "source": [
    "18//2"
   ]
  },
  {
   "cell_type": "code",
   "execution_count": 23,
   "id": "0b4f0ccf",
   "metadata": {},
   "outputs": [
    {
     "data": {
      "text/plain": [
       "2"
      ]
     },
     "execution_count": 23,
     "metadata": {},
     "output_type": "execute_result"
    }
   ],
   "source": [
    "18%4"
   ]
  },
  {
   "cell_type": "code",
   "execution_count": 25,
   "id": "af7410ed",
   "metadata": {},
   "outputs": [
    {
     "data": {
      "text/plain": [
       "4"
      ]
     },
     "execution_count": 25,
     "metadata": {},
     "output_type": "execute_result"
    }
   ],
   "source": [
    "50//11"
   ]
  },
  {
   "cell_type": "code",
   "execution_count": 27,
   "id": "e52481c3",
   "metadata": {},
   "outputs": [
    {
     "name": "stdout",
     "output_type": "stream",
     "text": [
      "the remainder of 50 and 11 is 6 and quotient of 50 and 11 is  4\n"
     ]
    }
   ],
   "source": [
    "print(\"the remainder of 50 and 11 is\", 50%11 ,\"and quotient of 50 and 11 is \" , 50//11)"
   ]
  },
  {
   "cell_type": "code",
   "execution_count": 29,
   "id": "7aa6cb09",
   "metadata": {},
   "outputs": [],
   "source": [
    "a = 20"
   ]
  },
  {
   "cell_type": "code",
   "execution_count": 31,
   "id": "50cfbc11",
   "metadata": {},
   "outputs": [
    {
     "data": {
      "text/plain": [
       "20"
      ]
     },
     "execution_count": 31,
     "metadata": {},
     "output_type": "execute_result"
    }
   ],
   "source": [
    "a"
   ]
  },
  {
   "cell_type": "code",
   "execution_count": 33,
   "id": "f9e8926a",
   "metadata": {},
   "outputs": [],
   "source": [
    "# variable assignment(In Python we have to make variables to further work on them )\n",
    "a = 20\n",
    "b = 10\n",
    "x = 100"
   ]
  },
  {
   "cell_type": "code",
   "execution_count": 35,
   "id": "bea72658",
   "metadata": {},
   "outputs": [
    {
     "name": "stdout",
     "output_type": "stream",
     "text": [
      "20 10 100\n"
     ]
    }
   ],
   "source": [
    "print(a,b,x)"
   ]
  },
  {
   "cell_type": "code",
   "execution_count": 37,
   "id": "0dcce9f0",
   "metadata": {},
   "outputs": [
    {
     "name": "stdout",
     "output_type": "stream",
     "text": [
      "200\n"
     ]
    }
   ],
   "source": [
    "print(a*b)"
   ]
  },
  {
   "cell_type": "code",
   "execution_count": 39,
   "id": "ed8a9661",
   "metadata": {},
   "outputs": [
    {
     "data": {
      "text/plain": [
       "200"
      ]
     },
     "execution_count": 39,
     "metadata": {},
     "output_type": "execute_result"
    }
   ],
   "source": [
    "b*a"
   ]
  },
  {
   "cell_type": "code",
   "execution_count": 41,
   "id": "97eb3c00",
   "metadata": {},
   "outputs": [
    {
     "data": {
      "text/plain": [
       "True"
      ]
     },
     "execution_count": 41,
     "metadata": {},
     "output_type": "execute_result"
    }
   ],
   "source": [
    "a=b\n",
    "a==b"
   ]
  },
  {
   "cell_type": "code",
   "execution_count": 43,
   "id": "c3784f69",
   "metadata": {},
   "outputs": [
    {
     "data": {
      "text/plain": [
       "False"
      ]
     },
     "execution_count": 43,
     "metadata": {},
     "output_type": "execute_result"
    }
   ],
   "source": [
    "a > b"
   ]
  },
  {
   "cell_type": "code",
   "execution_count": 45,
   "id": "415b5561",
   "metadata": {},
   "outputs": [
    {
     "data": {
      "text/plain": [
       "False"
      ]
     },
     "execution_count": 45,
     "metadata": {},
     "output_type": "execute_result"
    }
   ],
   "source": [
    "a < b"
   ]
  },
  {
   "cell_type": "code",
   "execution_count": 47,
   "id": "3fd6e125",
   "metadata": {},
   "outputs": [],
   "source": [
    "# python in its memory stores the latest value stored placement doesn't matter times matter"
   ]
  },
  {
   "cell_type": "code",
   "execution_count": 49,
   "id": "c6c76b9f",
   "metadata": {},
   "outputs": [],
   "source": [
    "#in python ! indicates not"
   ]
  },
  {
   "cell_type": "code",
   "execution_count": 51,
   "id": "1147d4f0",
   "metadata": {},
   "outputs": [],
   "source": [
    "#if one out of 2 conditions is true it will display true"
   ]
  },
  {
   "cell_type": "code",
   "execution_count": 53,
   "id": "cebc8370",
   "metadata": {},
   "outputs": [
    {
     "name": "stdout",
     "output_type": "stream",
     "text": [
      "step 1 35\n"
     ]
    }
   ],
   "source": [
    "print(\"step 1\" , 5+6+7+8+9)"
   ]
  },
  {
   "cell_type": "code",
   "execution_count": 56,
   "id": "64ff345c",
   "metadata": {},
   "outputs": [
    {
     "name": "stdout",
     "output_type": "stream",
     "text": [
      "The average of 5,6,7,8 is 6.5\n"
     ]
    }
   ],
   "source": [
    "print(\"The average of 5,6,7,8 is\",(5+6+7+8)/4)"
   ]
  }
 ],
 "metadata": {
  "kernelspec": {
   "display_name": "Python 3",
   "language": "python",
   "name": "python3"
  },
  "language_info": {
   "codemirror_mode": {
    "name": "ipython",
    "version": 3
   },
   "file_extension": ".py",
   "mimetype": "text/x-python",
   "name": "python",
   "nbconvert_exporter": "python",
   "pygments_lexer": "ipython3",
   "version": "3.8.8"
  }
 },
 "nbformat": 4,
 "nbformat_minor": 5
}
