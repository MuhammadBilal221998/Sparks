{
 "cells": [
  {
   "cell_type": "code",
   "execution_count": 2,
   "id": "c276b48b",
   "metadata": {},
   "outputs": [],
   "source": [
    "# session 2"
   ]
  },
  {
   "cell_type": "code",
   "execution_count": 3,
   "id": "81532922",
   "metadata": {},
   "outputs": [],
   "source": [
    "# conditional statements "
   ]
  },
  {
   "cell_type": "code",
   "execution_count": 6,
   "id": "0713c646",
   "metadata": {},
   "outputs": [
    {
     "name": "stdout",
     "output_type": "stream",
     "text": [
      "60\n"
     ]
    }
   ],
   "source": [
    "a = 60\n",
    "if a > 50:\n",
    "    print(a)"
   ]
  },
  {
   "cell_type": "code",
   "execution_count": 8,
   "id": "bd0e0fe9",
   "metadata": {},
   "outputs": [],
   "source": [
    "grocery = [1,2,3,\"K2\",\"Laptop\"]"
   ]
  },
  {
   "cell_type": "code",
   "execution_count": 10,
   "id": "52b806f2",
   "metadata": {},
   "outputs": [],
   "source": [
    "if grocery[4]==\"Laptop\":\n",
    "    grocery[4]=\"Desktop\""
   ]
  },
  {
   "cell_type": "code",
   "execution_count": 12,
   "id": "e8a1c450",
   "metadata": {},
   "outputs": [
    {
     "data": {
      "text/plain": [
       "[1, 2, 3, 'K2', 'Desktop']"
      ]
     },
     "execution_count": 12,
     "metadata": {},
     "output_type": "execute_result"
    }
   ],
   "source": [
    "grocery"
   ]
  },
  {
   "cell_type": "code",
   "execution_count": 15,
   "id": "ae34eaa8",
   "metadata": {},
   "outputs": [
    {
     "name": "stdout",
     "output_type": "stream",
     "text": [
      "a is lesser than 70\n"
     ]
    }
   ],
   "source": [
    "if a > 70:\n",
    "    print(a)\n",
    "else:\n",
    "        print(\"a is lesser than 70\")"
   ]
  },
  {
   "cell_type": "code",
   "execution_count": 16,
   "id": "1071b29f",
   "metadata": {},
   "outputs": [],
   "source": [
    "# direct statement comes after else\n",
    "# elif can be used for multiple statements\n",
    "# if and else can be only used once"
   ]
  },
  {
   "cell_type": "code",
   "execution_count": 17,
   "id": "6181a56d",
   "metadata": {},
   "outputs": [],
   "source": [
    "my_admission_school = \"LUMS\""
   ]
  },
  {
   "cell_type": "code",
   "execution_count": 22,
   "id": "ad390ebd",
   "metadata": {},
   "outputs": [
    {
     "name": "stdout",
     "output_type": "stream",
     "text": [
      "I will get a Ferrari\n"
     ]
    }
   ],
   "source": [
    "if my_admission_school ==\"FAST\":\n",
    "    print(\"i will get a BMW\")\n",
    "elif my_admission_school == \"LUMS\":\n",
    "    print(\"I will get a Ferrari\")\n",
    "elif my_admission_school ==\"BNU\":\n",
    "    print(\"I will get a Honda\")\n",
    "else:\n",
    "    print(\"I have to do my own busines\")"
   ]
  },
  {
   "cell_type": "code",
   "execution_count": 25,
   "id": "dc62bcc6",
   "metadata": {},
   "outputs": [
    {
     "name": "stdout",
     "output_type": "stream",
     "text": [
      "A-\n"
     ]
    }
   ],
   "source": [
    "student_gpa = 3.657\n",
    "if student_gpa == 4 :\n",
    "        print('A+')\n",
    "elif student_gpa >= 3.85 and student_gpa <= 3.99:\n",
    "        print('A')\n",
    "elif student_gpa >= 3.65 and student_gpa <= 3.84:\n",
    "    print('A-')\n",
    "elif student_gpa >= 3.45 and student_gpa <= 3.64:\n",
    "    print('B+')\n",
    "else :\n",
    "    print('B')"
   ]
  },
  {
   "cell_type": "code",
   "execution_count": 27,
   "id": "c9db8874",
   "metadata": {},
   "outputs": [
    {
     "name": "stdout",
     "output_type": "stream",
     "text": [
      "Good! you got an A- \n"
     ]
    }
   ],
   "source": [
    "student_gpa = 3.78\n",
    "\n",
    "if student_gpa == 4:\n",
    "    print(\"Congratulations! you got an A+ \")\n",
    "elif student_gpa >= 3.85:\n",
    "    print(\"Congratulations! you got an A \") \n",
    "elif student_gpa >= 3.67:\n",
    "    print(\"Good! you got an A- \")\n",
    "elif student_gpa >= 3.33:\n",
    "    print(\"you got a B+ \")\n",
    "elif student_gpa >= 3.32:\n",
    "    print(\"you got a B \")\n",
    "elif student_gpa >= 2.7:\n",
    "    print(\"you got a B- \")     \n",
    "elif student_gpa >= 2.5:\n",
    "    print(\"you got a C \")\n",
    "elif student_gpa >= 2.3:\n",
    "    print(\"you got a D \")\n",
    "else:\n",
    "    print(\"Sorry You failed\")"
   ]
  },
  {
   "cell_type": "code",
   "execution_count": 29,
   "id": "f6e78518",
   "metadata": {},
   "outputs": [],
   "source": [
    "a = 5"
   ]
  },
  {
   "cell_type": "code",
   "execution_count": 30,
   "id": "2ac50200",
   "metadata": {},
   "outputs": [
    {
     "name": "stdout",
     "output_type": "stream",
     "text": [
      "5\n"
     ]
    }
   ],
   "source": [
    "if a > 5 or a<=10:\n",
    "    print(a)\n",
    "else:\n",
    "    print(\"Condition not satisfied\")"
   ]
  }
 ],
 "metadata": {
  "kernelspec": {
   "display_name": "Python 3",
   "language": "python",
   "name": "python3"
  },
  "language_info": {
   "codemirror_mode": {
    "name": "ipython",
    "version": 3
   },
   "file_extension": ".py",
   "mimetype": "text/x-python",
   "name": "python",
   "nbconvert_exporter": "python",
   "pygments_lexer": "ipython3",
   "version": "3.8.8"
  }
 },
 "nbformat": 4,
 "nbformat_minor": 5
}
